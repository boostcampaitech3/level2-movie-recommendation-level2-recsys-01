{
 "cells": [
  {
   "cell_type": "code",
   "execution_count": 1,
   "id": "c9efba12-f31c-476f-bbcb-b3fb43b4f9d8",
   "metadata": {},
   "outputs": [
    {
     "name": "stdout",
     "output_type": "stream",
     "text": [
      "WARNING:tensorflow:From /opt/conda/lib/python3.8/site-packages/tensorflow/python/compat/v2_compat.py:96: disable_resource_variables (from tensorflow.python.ops.variable_scope) is deprecated and will be removed in a future version.\n",
      "Instructions for updating:\n",
      "non-resource variables are not supported in the long term\n",
      "System version: 3.8.5 (default, Sep  4 2020, 07:30:14) \n",
      "[GCC 7.3.0]\n",
      "Pandas version: 1.0.1\n",
      "Tensorflow version: 2.4.1\n",
      "Keras version: 2.4.0\n"
     ]
    }
   ],
   "source": [
    "import sys\n",
    "import os\n",
    "import numpy as np\n",
    "import pandas as pd\n",
    "import papermill as pm\n",
    "import matplotlib.pyplot as plt\n",
    "%matplotlib inline\n",
    "import seaborn as sns\n",
    "sns.set()\n",
    "import tensorflow as tf\n",
    "from tensorflow import keras \n",
    "\n",
    "from recommenders.utils.timer import Timer\n",
    "from recommenders.datasets import movielens\n",
    "from recommenders.datasets.split_utils import min_rating_filter_pandas\n",
    "from recommenders.datasets.python_splitters import numpy_stratified_split\n",
    "from recommenders.evaluation.python_evaluation import map_at_k, ndcg_at_k, precision_at_k, recall_at_k\n",
    "\n",
    "from recommenders.datasets.sparse import AffinityMatrix\n",
    "from recommenders.utils.python_utils import binarize\n",
    "from recommenders.models.vae.multinomial_vae import Mult_VAE\n",
    "\n",
    "from tempfile import TemporaryDirectory\n",
    "\n",
    "import tensorflow._api.v2.compat.v1 as tf\n",
    "\n",
    "tf.disable_v2_behavior()\n",
    "\n",
    "print(\"System version: {}\".format(sys.version))\n",
    "print(\"Pandas version: {}\".format(pd.__version__))\n",
    "print(\"Tensorflow version: {}\".format(tf.__version__))\n",
    "print(\"Keras version: {}\".format(keras.__version__))"
   ]
  },
  {
   "cell_type": "code",
   "execution_count": 2,
   "id": "ef011567-5c58-401e-8049-2b2371c7a3b3",
   "metadata": {},
   "outputs": [],
   "source": [
    "# top k items to recommend\n",
    "TOP_K = 10\n",
    "\n",
    "# Select MovieLens data size: 100k, 1m, 10m, or 20m\n",
    "# MOVIELENS_DATA_SIZE = '1m'\n",
    "\n",
    "# Model parameters\n",
    "HELDOUT_USERS = 3000 # CHANGE FOR DIFFERENT DATASIZE\n",
    "INTERMEDIATE_DIM = 200\n",
    "LATENT_DIM = 70\n",
    "EPOCHS = 400\n",
    "BATCH_SIZE = 100\n",
    "\n",
    "# temporary Path to save the optimal model's weights\n",
    "tmp_dir = '../data/train/'\n",
    "WEIGHTS_PATH = os.path.join(tmp_dir, \"mvae_weights.hdf5\")\n",
    "\n",
    "SEED = 42"
   ]
  },
  {
   "cell_type": "code",
   "execution_count": 3,
   "id": "165875ec-8230-44ed-b40a-f40e89abfb7a",
   "metadata": {},
   "outputs": [
    {
     "data": {
      "text/html": [
       "<div>\n",
       "<style scoped>\n",
       "    .dataframe tbody tr th:only-of-type {\n",
       "        vertical-align: middle;\n",
       "    }\n",
       "\n",
       "    .dataframe tbody tr th {\n",
       "        vertical-align: top;\n",
       "    }\n",
       "\n",
       "    .dataframe thead th {\n",
       "        text-align: right;\n",
       "    }\n",
       "</style>\n",
       "<table border=\"1\" class=\"dataframe\">\n",
       "  <thead>\n",
       "    <tr style=\"text-align: right;\">\n",
       "      <th></th>\n",
       "      <th>userID</th>\n",
       "      <th>itemID</th>\n",
       "      <th>rating</th>\n",
       "      <th>timestamp</th>\n",
       "    </tr>\n",
       "  </thead>\n",
       "  <tbody>\n",
       "    <tr>\n",
       "      <th>0</th>\n",
       "      <td>11</td>\n",
       "      <td>4643</td>\n",
       "      <td>1</td>\n",
       "      <td>1230782529</td>\n",
       "    </tr>\n",
       "    <tr>\n",
       "      <th>1</th>\n",
       "      <td>11</td>\n",
       "      <td>170</td>\n",
       "      <td>1</td>\n",
       "      <td>1230782534</td>\n",
       "    </tr>\n",
       "    <tr>\n",
       "      <th>2</th>\n",
       "      <td>11</td>\n",
       "      <td>531</td>\n",
       "      <td>1</td>\n",
       "      <td>1230782539</td>\n",
       "    </tr>\n",
       "    <tr>\n",
       "      <th>3</th>\n",
       "      <td>11</td>\n",
       "      <td>616</td>\n",
       "      <td>1</td>\n",
       "      <td>1230782542</td>\n",
       "    </tr>\n",
       "    <tr>\n",
       "      <th>4</th>\n",
       "      <td>11</td>\n",
       "      <td>2140</td>\n",
       "      <td>1</td>\n",
       "      <td>1230782563</td>\n",
       "    </tr>\n",
       "  </tbody>\n",
       "</table>\n",
       "</div>"
      ],
      "text/plain": [
       "   userID  itemID  rating   timestamp\n",
       "0      11    4643       1  1230782529\n",
       "1      11     170       1  1230782534\n",
       "2      11     531       1  1230782539\n",
       "3      11     616       1  1230782542\n",
       "4      11    2140       1  1230782563"
      ]
     },
     "execution_count": 3,
     "metadata": {},
     "output_type": "execute_result"
    }
   ],
   "source": [
    "df = pd.read_csv(\"/opt/ml/input/data/train/train_ratings.csv\")\n",
    "df[\"rating\"] = 1\n",
    "df = df[[\"user\", \"item\", \"rating\",\"time\"]]\n",
    "df.columns = ['userID', 'itemID', 'rating',\"timestamp\"]\n",
    "df.head()"
   ]
  },
  {
   "cell_type": "code",
   "execution_count": 4,
   "id": "59545b61-e251-4a1a-829b-7041fabdce8e",
   "metadata": {},
   "outputs": [
    {
     "name": "stdout",
     "output_type": "stream",
     "text": [
      "(5154471, 4)\n"
     ]
    },
    {
     "data": {
      "text/html": [
       "<div>\n",
       "<style scoped>\n",
       "    .dataframe tbody tr th:only-of-type {\n",
       "        vertical-align: middle;\n",
       "    }\n",
       "\n",
       "    .dataframe tbody tr th {\n",
       "        vertical-align: top;\n",
       "    }\n",
       "\n",
       "    .dataframe thead th {\n",
       "        text-align: right;\n",
       "    }\n",
       "</style>\n",
       "<table border=\"1\" class=\"dataframe\">\n",
       "  <thead>\n",
       "    <tr style=\"text-align: right;\">\n",
       "      <th></th>\n",
       "      <th>userID</th>\n",
       "      <th>itemID</th>\n",
       "      <th>rating</th>\n",
       "      <th>timestamp</th>\n",
       "    </tr>\n",
       "  </thead>\n",
       "  <tbody>\n",
       "    <tr>\n",
       "      <th>0</th>\n",
       "      <td>11</td>\n",
       "      <td>4643</td>\n",
       "      <td>1</td>\n",
       "      <td>1230782529</td>\n",
       "    </tr>\n",
       "    <tr>\n",
       "      <th>1</th>\n",
       "      <td>11</td>\n",
       "      <td>170</td>\n",
       "      <td>1</td>\n",
       "      <td>1230782534</td>\n",
       "    </tr>\n",
       "    <tr>\n",
       "      <th>2</th>\n",
       "      <td>11</td>\n",
       "      <td>531</td>\n",
       "      <td>1</td>\n",
       "      <td>1230782539</td>\n",
       "    </tr>\n",
       "    <tr>\n",
       "      <th>3</th>\n",
       "      <td>11</td>\n",
       "      <td>616</td>\n",
       "      <td>1</td>\n",
       "      <td>1230782542</td>\n",
       "    </tr>\n",
       "    <tr>\n",
       "      <th>4</th>\n",
       "      <td>11</td>\n",
       "      <td>2140</td>\n",
       "      <td>1</td>\n",
       "      <td>1230782563</td>\n",
       "    </tr>\n",
       "    <tr>\n",
       "      <th>5</th>\n",
       "      <td>11</td>\n",
       "      <td>2722</td>\n",
       "      <td>1</td>\n",
       "      <td>1230782583</td>\n",
       "    </tr>\n",
       "    <tr>\n",
       "      <th>6</th>\n",
       "      <td>11</td>\n",
       "      <td>2313</td>\n",
       "      <td>1</td>\n",
       "      <td>1230782646</td>\n",
       "    </tr>\n",
       "    <tr>\n",
       "      <th>7</th>\n",
       "      <td>11</td>\n",
       "      <td>2688</td>\n",
       "      <td>1</td>\n",
       "      <td>1230782656</td>\n",
       "    </tr>\n",
       "    <tr>\n",
       "      <th>8</th>\n",
       "      <td>11</td>\n",
       "      <td>2428</td>\n",
       "      <td>1</td>\n",
       "      <td>1230782694</td>\n",
       "    </tr>\n",
       "    <tr>\n",
       "      <th>9</th>\n",
       "      <td>11</td>\n",
       "      <td>3113</td>\n",
       "      <td>1</td>\n",
       "      <td>1230782719</td>\n",
       "    </tr>\n",
       "  </tbody>\n",
       "</table>\n",
       "</div>"
      ],
      "text/plain": [
       "   userID  itemID  rating   timestamp\n",
       "0      11    4643       1  1230782529\n",
       "1      11     170       1  1230782534\n",
       "2      11     531       1  1230782539\n",
       "3      11     616       1  1230782542\n",
       "4      11    2140       1  1230782563\n",
       "5      11    2722       1  1230782583\n",
       "6      11    2313       1  1230782646\n",
       "7      11    2688       1  1230782656\n",
       "8      11    2428       1  1230782694\n",
       "9      11    3113       1  1230782719"
      ]
     },
     "execution_count": 4,
     "metadata": {},
     "output_type": "execute_result"
    }
   ],
   "source": [
    "df_preferred = df[df['rating'] > 0]\n",
    "print (df_preferred.shape)\n",
    "df_low_rating = df[df['rating'] <= 0]\n",
    "\n",
    "\n",
    "# df.head()\n",
    "df_preferred.head(10)"
   ]
  },
  {
   "cell_type": "code",
   "execution_count": 5,
   "id": "15b069f2-e1bc-4386-9efa-58228018ac20",
   "metadata": {},
   "outputs": [],
   "source": [
    "# Keep users who clicked on at least 5 movies\n",
    "df = min_rating_filter_pandas(df_preferred, min_rating=5, filter_by=\"user\")\n",
    "\n",
    "# Keep movies that were clicked on by at least on 1 user\n",
    "df = min_rating_filter_pandas(df, min_rating=1, filter_by=\"item\")"
   ]
  },
  {
   "cell_type": "code",
   "execution_count": 6,
   "id": "71efd817-d871-4b30-9625-d8eba0be95af",
   "metadata": {},
   "outputs": [
    {
     "data": {
      "text/plain": [
       "(5154471, 4)"
      ]
     },
     "execution_count": 6,
     "metadata": {},
     "output_type": "execute_result"
    }
   ],
   "source": [
    "df.shape"
   ]
  },
  {
   "cell_type": "code",
   "execution_count": 7,
   "id": "8066d477-8d7a-46f9-b4b4-a5f48d2779ae",
   "metadata": {},
   "outputs": [
    {
     "name": "stdout",
     "output_type": "stream",
     "text": [
      "After filtering, there are 5154471 watching events from 31360 users and 6807 movies (sparsity: 2.415%)\n"
     ]
    }
   ],
   "source": [
    "# Obtain both usercount and itemcount after filtering\n",
    "usercount = df[['userID']].groupby('userID', as_index = False).size()\n",
    "itemcount = df[['itemID']].groupby('itemID', as_index = False).size()\n",
    "\n",
    "# Compute sparsity after filtering\n",
    "sparsity = 1. * df.shape[0] / (usercount.shape[0] * itemcount.shape[0])\n",
    "\n",
    "print(\"After filtering, there are %d watching events from %d users and %d movies (sparsity: %.3f%%)\" % \n",
    "      (df.shape[0], usercount.shape[0], itemcount.shape[0], sparsity * 100))"
   ]
  },
  {
   "cell_type": "code",
   "execution_count": 8,
   "id": "c48d6a6c-95da-4af7-a38e-1bd23a72d805",
   "metadata": {},
   "outputs": [],
   "source": [
    "unique_users = sorted(df.userID.unique())\n",
    "np.random.seed(SEED)\n",
    "unique_users = np.random.permutation(unique_users)"
   ]
  },
  {
   "cell_type": "code",
   "execution_count": 9,
   "id": "26be54d4-0be3-4c78-b002-30a836d27a8d",
   "metadata": {},
   "outputs": [
    {
     "name": "stdout",
     "output_type": "stream",
     "text": [
      "Number of unique users: 31360\n",
      "\n",
      "Number of training users: 28360\n",
      "\n",
      "Number of validation users: 3000\n",
      "\n",
      "Number of test users: 31360\n"
     ]
    }
   ],
   "source": [
    "# Create train/validation/test users\n",
    "n_users = len(unique_users)\n",
    "print(\"Number of unique users:\", n_users)\n",
    "\n",
    "train_users = unique_users[:(n_users - HELDOUT_USERS)]\n",
    "print(\"\\nNumber of training users:\", len(train_users))\n",
    "\n",
    "val_users = unique_users[(n_users - HELDOUT_USERS) : (n_users)]\n",
    "print(\"\\nNumber of validation users:\", len(val_users))\n",
    "\n",
    "test_users = unique_users[:n_users]\n",
    "print(\"\\nNumber of test users:\", len(test_users))"
   ]
  },
  {
   "cell_type": "code",
   "execution_count": 10,
   "id": "d170aa67-3af5-4f2e-a55a-a4d99919edf6",
   "metadata": {},
   "outputs": [
    {
     "name": "stdout",
     "output_type": "stream",
     "text": [
      "Number of training observations:  4656007\n",
      "\n",
      "Number of validation observations:  498464\n",
      "\n",
      "Number of test observations:  5154471\n"
     ]
    }
   ],
   "source": [
    "train_set = df.loc[df['userID'].isin(train_users)]\n",
    "print(\"Number of training observations: \", train_set.shape[0])\n",
    "\n",
    "# For validation set keep only users that are in val_users list\n",
    "val_set = df.loc[df['userID'].isin(val_users)]\n",
    "print(\"\\nNumber of validation observations: \", val_set.shape[0])\n",
    "\n",
    "# For test set keep only users that are in test_users list\n",
    "test_set = df.loc[df['userID'].isin(test_users)]\n",
    "print(\"\\nNumber of test observations: \", test_set.shape[0])"
   ]
  },
  {
   "cell_type": "code",
   "execution_count": 11,
   "id": "d17c62ac-e4e0-4aec-bb25-4f4eb92a1aa2",
   "metadata": {},
   "outputs": [
    {
     "name": "stdout",
     "output_type": "stream",
     "text": [
      "Number of unique movies that rated in training set 6807\n"
     ]
    }
   ],
   "source": [
    "unique_train_items = pd.unique(train_set['itemID'])\n",
    "print(\"Number of unique movies that rated in training set\", unique_train_items.size)"
   ]
  },
  {
   "cell_type": "code",
   "execution_count": 12,
   "id": "5627bd18-8451-4c6f-9e52-c2abcce30404",
   "metadata": {},
   "outputs": [
    {
     "name": "stdout",
     "output_type": "stream",
     "text": [
      "Number of validation observations after filtering:  498464\n",
      "\n",
      "Number of test observations after filtering:  5154471\n"
     ]
    }
   ],
   "source": [
    "# For validation set keep only movies that used in training set\n",
    "val_set = val_set.loc[val_set['itemID'].isin(unique_train_items)]\n",
    "print(\"Number of validation observations after filtering: \", val_set.shape[0])\n",
    "\n",
    "# For test set keep only movies that used in training set\n",
    "test_set = test_set.loc[test_set['itemID'].isin(unique_train_items)]\n",
    "print(\"\\nNumber of test observations after filtering: \", test_set.shape[0])"
   ]
  },
  {
   "cell_type": "code",
   "execution_count": 13,
   "id": "91a50849-b5c7-44e2-a262-77d43cb45328",
   "metadata": {},
   "outputs": [],
   "source": [
    "# Instantiate the sparse matrix generation for train, validation and test sets\n",
    "# use list of unique items from training set for all sets\n",
    "am_train = AffinityMatrix(df=train_set, items_list=unique_train_items)\n",
    "\n",
    "am_val = AffinityMatrix(df=val_set, items_list=unique_train_items)\n",
    "\n",
    "am_test = AffinityMatrix(df=test_set, items_list=unique_train_items)"
   ]
  },
  {
   "cell_type": "code",
   "execution_count": 14,
   "id": "581778e7-7360-4356-8979-aaeca06a46a0",
   "metadata": {},
   "outputs": [
    {
     "name": "stdout",
     "output_type": "stream",
     "text": [
      "(28360, 6807)\n",
      "(3000, 6807)\n",
      "(31360, 6807)\n"
     ]
    }
   ],
   "source": [
    "train_data, _, _ = am_train.gen_affinity_matrix()\n",
    "print(train_data.shape)\n",
    "\n",
    "val_data, val_map_users, val_map_items = am_val.gen_affinity_matrix()\n",
    "print(val_data.shape)\n",
    "\n",
    "test_data, test_map_users, test_map_items = am_test.gen_affinity_matrix()\n",
    "print(test_data.shape)"
   ]
  },
  {
   "cell_type": "code",
   "execution_count": 15,
   "id": "a4f5cdf4-8166-4111-ba8e-e6ffab8b8515",
   "metadata": {},
   "outputs": [],
   "source": [
    "# Split validation and test data into training and testing parts\n",
    "val_data_tr, val_data_te = numpy_stratified_split(val_data, ratio=0.75, seed=SEED)\n",
    "test_data_tr, test_data_te = numpy_stratified_split(test_data, ratio=0.75, seed=SEED)"
   ]
  },
  {
   "cell_type": "code",
   "execution_count": 16,
   "id": "b3e9e942-7a55-488a-9bb1-5575f8eadfb5",
   "metadata": {},
   "outputs": [],
   "source": [
    "# Binarize train, validation and test data\n",
    "train_data = binarize(a=train_data, threshold=0)\n",
    "val_data = binarize(a=val_data, threshold=0)\n",
    "test_data = binarize(a=test_data, threshold=0)"
   ]
  },
  {
   "cell_type": "code",
   "execution_count": 17,
   "id": "7f087ee1-b4db-466d-b329-39ba5f838e8f",
   "metadata": {},
   "outputs": [],
   "source": [
    "# Binarize validation data: training part  \n",
    "val_data_tr = binarize(a=val_data_tr, threshold=0)\n",
    "\n",
    "# Binarize validation data: testing part (save non-binary version in the separate object, will be used for calculating NDCG)\n",
    "val_data_te_ratings = val_data_te.copy()\n",
    "val_data_te = binarize(a=val_data_te, threshold=0)"
   ]
  },
  {
   "cell_type": "code",
   "execution_count": 18,
   "id": "58a184d2-494e-49d5-8134-35c39089662f",
   "metadata": {},
   "outputs": [],
   "source": [
    "# Binarize test data: training part \n",
    "test_data_tr = binarize(a=test_data_tr, threshold=0)\n",
    "\n",
    "# Binarize test data: testing part (save non-binary version in the separate object, will be used for calculating NDCG)\n",
    "test_data_te_ratings = test_data_te.copy()\n",
    "test_data_te = binarize(a=test_data_te, threshold=0)"
   ]
  },
  {
   "cell_type": "code",
   "execution_count": 19,
   "id": "c7ad87b7-e61f-4a8c-b752-e096fbb8f8dc",
   "metadata": {},
   "outputs": [],
   "source": [
    "# retrieve real ratings from initial dataset \n",
    "\n",
    "test_data_te_ratings=pd.DataFrame(test_data_te_ratings)\n",
    "val_data_te_ratings=pd.DataFrame(val_data_te_ratings)\n",
    "\n",
    "for index,i in df_low_rating.iterrows():\n",
    "  user_old= i['userID'] # old value \n",
    "  item_old=i['itemID'] # old value \n",
    "\n",
    "    \n",
    "  if (test_map_users.get(user_old) is not None)  and (test_map_items.get(item_old) is not None) :\n",
    "      user_new=test_map_users.get(user_old) # new value \n",
    "      item_new=test_map_items.get(item_old) # new value \n",
    "      rating=i['rating'] \n",
    "      test_data_te_ratings.at[user_new,item_new]= rating   \n",
    "\n",
    "  if (val_map_users.get(user_old) is not None)  and (val_map_items.get(item_old) is not None) :\n",
    "      user_new=val_map_users.get(user_old) # new value \n",
    "      item_new=val_map_items.get(item_old) # new value \n",
    "      rating=i['rating'] \n",
    "      val_data_te_ratings.at[user_new,item_new]= rating  \n",
    "\n",
    "\n",
    "val_data_te_ratings=val_data_te_ratings.to_numpy()    \n",
    "test_data_te_ratings=test_data_te_ratings.to_numpy()    \n",
    "# test_data_te_ratings  "
   ]
  },
  {
   "cell_type": "code",
   "execution_count": 20,
   "id": "949ccc91-ac85-4d04-beaa-d46fb0f2bad8",
   "metadata": {},
   "outputs": [
    {
     "name": "stdout",
     "output_type": "stream",
     "text": [
      "498464.0\n",
      "373833.0\n",
      "124631.0\n",
      "5154471.0\n",
      "3865715.0\n",
      "1288756.0\n"
     ]
    }
   ],
   "source": [
    "# Just checking\n",
    "print(np.sum(val_data))\n",
    "print(np.sum(val_data_tr))\n",
    "print(np.sum(val_data_te))\n",
    "# Just checking\n",
    "print(np.sum(test_data))\n",
    "print(np.sum(test_data_tr))\n",
    "print(np.sum(test_data_te))"
   ]
  },
  {
   "cell_type": "code",
   "execution_count": 21,
   "id": "b5cd5db2-c065-4346-b092-34b6f1a17a32",
   "metadata": {},
   "outputs": [
    {
     "name": "stdout",
     "output_type": "stream",
     "text": [
      "WARNING:tensorflow:From /opt/conda/lib/python3.8/site-packages/recommenders/models/vae/multinomial_vae.py:291: The name tf.keras.initializers.truncated_normal is deprecated. Please use tf.compat.v1.keras.initializers.truncated_normal instead.\n",
      "\n",
      "WARNING:tensorflow:From /opt/conda/lib/python3.8/site-packages/tensorflow/python/keras/initializers/initializers_v1.py:67: calling TruncatedNormal.__init__ (from tensorflow.python.ops.init_ops) with dtype is deprecated and will be removed in a future version.\n",
      "Instructions for updating:\n",
      "Call initializer instance with the dtype argument instead of passing it to the constructor\n"
     ]
    }
   ],
   "source": [
    "model_with_anneal = Mult_VAE(n_users=train_data.shape[0], # Number of unique users in the training set\n",
    "                             original_dim=train_data.shape[1], # Number of unique items in the training set\n",
    "                             intermediate_dim=INTERMEDIATE_DIM, \n",
    "                             latent_dim=LATENT_DIM, \n",
    "                             n_epochs=EPOCHS, \n",
    "                             batch_size=BATCH_SIZE, \n",
    "                             k=TOP_K,\n",
    "                             verbose=0,\n",
    "                             seed=SEED,\n",
    "                             save_path=WEIGHTS_PATH,\n",
    "                             drop_encoder=0.5,\n",
    "                             drop_decoder=0.5,\n",
    "                             annealing=True,\n",
    "                             anneal_cap=1.0,       \n",
    "                             )"
   ]
  },
  {
   "cell_type": "code",
   "execution_count": 22,
   "id": "18d943fd-d5ab-47b9-b0b9-2593b215b15e",
   "metadata": {},
   "outputs": [
    {
     "name": "stderr",
     "output_type": "stream",
     "text": [
      "/opt/conda/lib/python3.8/site-packages/tensorflow/python/keras/engine/training_v1.py:1240: UserWarning: `model.fit_generator` is deprecated and will be removed in a future version. Please use `Model.fit`, which supports generators.\n",
      "  warnings.warn('`model.fit_generator` is deprecated and '\n",
      "2022-04-08 02:59:46.832578: I tensorflow/compiler/jit/xla_cpu_device.cc:41] Not creating XLA devices, tf_xla_enable_xla_devices not set\n",
      "2022-04-08 02:59:46.832923: I tensorflow/core/platform/cpu_feature_guard.cc:142] This TensorFlow binary is optimized with oneAPI Deep Neural Network Library (oneDNN) to use the following CPU instructions in performance-critical operations:  SSE4.1 SSE4.2 AVX AVX2 FMA\n",
      "To enable them in other operations, rebuild TensorFlow with the appropriate compiler flags.\n",
      "2022-04-08 02:59:46.834828: I tensorflow/core/common_runtime/process_util.cc:146] Creating new thread pool with default inter op setting: 2. Tune using inter_op_parallelism_threads for best performance.\n",
      "2022-04-08 02:59:46.856004: I tensorflow/compiler/mlir/mlir_graph_optimization_pass.cc:196] None of the MLIR optimization passes are enabled (registered 0 passes)\n",
      "2022-04-08 02:59:46.862178: I tensorflow/core/platform/profile_utils/cpu_utils.cc:112] CPU Frequency: 2200095000 Hz\n",
      "/opt/conda/lib/python3.8/site-packages/tensorflow/python/keras/engine/training.py:2325: UserWarning: `Model.state_updates` will be removed in a future version. This property should not be used in TensorFlow 2.0, as `updates` are applied automatically.\n",
      "  warnings.warn('`Model.state_updates` will be removed in a future version. '\n"
     ]
    },
    {
     "name": "stdout",
     "output_type": "stream",
     "text": [
      "Took 7641.2748 seconds for training.\n"
     ]
    }
   ],
   "source": [
    "with Timer() as t:\n",
    "    model_with_anneal.fit(x_train=train_data, \n",
    "                          x_valid=val_data, \n",
    "                          x_val_tr=val_data_tr, \n",
    "                          x_val_te=val_data_te_ratings, \n",
    "                          mapper=am_val\n",
    "                          )\n",
    "print(\"Took {} seconds for training.\".format(t))"
   ]
  },
  {
   "cell_type": "code",
   "execution_count": 23,
   "id": "53f883f9-6d5e-4158-90b2-119dbb272e30",
   "metadata": {},
   "outputs": [
    {
     "data": {
      "image/png": "[encoded data removed]",
      "text/plain": [
       "<Figure size 1008x360 with 2 Axes>"
      ]
     },
     "metadata": {},
     "output_type": "display_data"
    }
   ],
   "source": [
    "model_with_anneal.display_metrics()"
   ]
  },
  {
   "cell_type": "code",
   "execution_count": 24,
   "id": "e397b979-3d15-46f2-8116-4127c386dd41",
   "metadata": {},
   "outputs": [],
   "source": [
    "ndcg_val_with_anneal = model_with_anneal.ndcg_per_epoch()"
   ]
  },
  {
   "cell_type": "code",
   "execution_count": 25,
   "id": "6123ff55-9cce-4fbb-b907-2484db576429",
   "metadata": {},
   "outputs": [
    {
     "name": "stdout",
     "output_type": "stream",
     "text": [
      "The optimal beta is:  0.10625\n"
     ]
    }
   ],
   "source": [
    "optimal_beta = model_with_anneal.get_optimal_beta()\n",
    "print( \"The optimal beta is: \", optimal_beta)"
   ]
  },
  {
   "cell_type": "code",
   "execution_count": 26,
   "id": "0fd0ef34-c2ca-4e8e-8dc2-a0a547cbeb8a",
   "metadata": {},
   "outputs": [],
   "source": [
    "model_optimal_beta = Mult_VAE(n_users=train_data.shape[0], # Number of unique users in the training set\n",
    "                              original_dim=train_data.shape[1], # Number of unique items in the training set\n",
    "                              intermediate_dim=INTERMEDIATE_DIM,\n",
    "                              latent_dim=LATENT_DIM,\n",
    "                              n_epochs=EPOCHS,\n",
    "                              batch_size=BATCH_SIZE,\n",
    "                              k=TOP_K,\n",
    "                              verbose=0,\n",
    "                              seed=SEED,\n",
    "                              save_path=WEIGHTS_PATH,\n",
    "                              drop_encoder=0.5,\n",
    "                              drop_decoder=0.5,\n",
    "                              annealing=True,\n",
    "                              anneal_cap=optimal_beta,  \n",
    "                              )"
   ]
  },
  {
   "cell_type": "code",
   "execution_count": 27,
   "id": "f95cda8b-4f25-47b5-90c0-25ef02cf708e",
   "metadata": {},
   "outputs": [
    {
     "name": "stdout",
     "output_type": "stream",
     "text": [
      "Took 7397.0495 seconds for training.\n"
     ]
    }
   ],
   "source": [
    "with Timer() as t:\n",
    "    model_optimal_beta.fit(x_train=train_data, \n",
    "                           x_valid=val_data, \n",
    "                           x_val_tr=val_data_tr, \n",
    "                           x_val_te=val_data_te_ratings, \n",
    "                           mapper=am_val\n",
    "                           )\n",
    "    \n",
    "print(\"Took {} seconds for training.\".format(t))"
   ]
  },
  {
   "cell_type": "code",
   "execution_count": 28,
   "id": "e3a727fd-b052-4f87-9e7f-d4317ba30a2a",
   "metadata": {},
   "outputs": [
    {
     "data": {
      "image/png": "[encoded data removed]",
      "text/plain": [
       "<Figure size 1008x360 with 2 Axes>"
      ]
     },
     "metadata": {},
     "output_type": "display_data"
    }
   ],
   "source": [
    "model_optimal_beta.display_metrics()"
   ]
  },
  {
   "cell_type": "code",
   "execution_count": 29,
   "id": "7340f862-4dc9-4239-ae3a-3006230d452f",
   "metadata": {},
   "outputs": [],
   "source": [
    "ndcg_val_optimal_beta = model_optimal_beta.ndcg_per_epoch()"
   ]
  },
  {
   "cell_type": "code",
   "execution_count": 30,
   "id": "b4d42fcc-7fc2-4a9f-9b1d-8deea39e3d5b",
   "metadata": {},
   "outputs": [
    {
     "name": "stdout",
     "output_type": "stream",
     "text": [
      "Took 18.1165 seconds for prediction.\n"
     ]
    }
   ],
   "source": [
    "# Use k = 10\n",
    "with Timer() as t:\n",
    "    # Model prediction on the training part of test set \n",
    "    top_k =  model_optimal_beta.recommend_k_items(x=test_data_tr,\n",
    "                                                  k=10,\n",
    "                                                  remove_seen=True\n",
    "                                                  )\n",
    "\n",
    "    # Convert sparse matrix back to df\n",
    "    top_k_df = am_test.map_back_sparse(top_k, kind='prediction')\n",
    "    test_df = am_test.map_back_sparse(test_data_te_ratings, kind='ratings') # use test_data_te_, with the original ratings\n",
    "    \n",
    "print(\"Took {} seconds for prediction.\".format(t))\n",
    "\n"
   ]
  },
  {
   "cell_type": "code",
   "execution_count": 31,
   "id": "07a5d1c4-f235-4d24-bfbe-c36b20867b81",
   "metadata": {},
   "outputs": [
    {
     "name": "stdout",
     "output_type": "stream",
     "text": [
      "MAP@10:\t\t0.095447\n",
      "NDCG@10:\t0.475214\n",
      "Precision@10:\t0.441856\n",
      "Recall@10: \t0.138404\n"
     ]
    }
   ],
   "source": [
    "# # Use the ranking metrics for evaluation\n",
    "eval_map_3 = map_at_k(test_df, top_k_df, col_prediction='prediction', k=10)\n",
    "eval_ndcg_3 = ndcg_at_k(test_df, top_k_df, col_prediction='prediction', k=10)\n",
    "eval_precision_3 = precision_at_k(test_df, top_k_df, col_prediction='prediction', k=10)\n",
    "eval_recall_3 = recall_at_k(test_df, top_k_df, col_prediction='prediction', k=10)\n",
    "\n",
    "print(\"MAP@10:\\t\\t%f\" % eval_map_3,\n",
    "      \"NDCG@10:\\t%f\" % eval_ndcg_3,\n",
    "      \"Precision@10:\\t%f\" % eval_precision_3,\n",
    "      \"Recall@10: \\t%f\" % eval_recall_3, sep='\\n')"
   ]
  },
  {
   "cell_type": "code",
   "execution_count": 32,
   "id": "d6af914c-8a06-4334-83b5-734efb712690",
   "metadata": {},
   "outputs": [
    {
     "data": {
      "text/plain": [
       "(313600, 3)"
      ]
     },
     "execution_count": 32,
     "metadata": {},
     "output_type": "execute_result"
    }
   ],
   "source": [
    "top_k_df.shape"
   ]
  },
  {
   "cell_type": "code",
   "execution_count": 33,
   "id": "ba0ef4e9-33a6-436e-a385-cad67acb583c",
   "metadata": {},
   "outputs": [],
   "source": [
    "top_k_df.to_csv(\"/opt/ml/input/code/output/Multi_VAE.csv\", index=False)"
   ]
  },
  {
   "cell_type": "code",
   "execution_count": null,
   "id": "3b9764f4-e6c6-491a-9ed2-1a248d9f77f1",
   "metadata": {},
   "outputs": [],
   "source": []
  }
 ],
 "metadata": {
  "kernelspec": {
   "display_name": "Python 3 (ipykernel)",
   "language": "python",
   "name": "python3"
  },
  "language_info": {
   "codemirror_mode": {
    "name": "ipython",
    "version": 3
   },
   "file_extension": ".py",
   "mimetype": "text/x-python",
   "name": "python",
   "nbconvert_exporter": "python",
   "pygments_lexer": "ipython3",
   "version": "3.8.5"
  }
 },
 "nbformat": 4,
 "nbformat_minor": 5
}
