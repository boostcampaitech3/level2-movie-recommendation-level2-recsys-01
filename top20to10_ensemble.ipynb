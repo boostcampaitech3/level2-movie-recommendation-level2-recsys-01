{
 "cells": [
  {
   "cell_type": "code",
   "execution_count": 1,
   "metadata": {},
   "outputs": [],
   "source": [
    "import pandas as pd\n",
    "import numpy as np\n",
    "import tqdm"
   ]
  },
  {
   "cell_type": "code",
   "execution_count": 2,
   "metadata": {},
   "outputs": [],
   "source": [
    "recvae = pd.read_csv('/opt/ml/LSY/ensemble/RecVAE(top20)_epoch500_adam0.0005.csv')\n",
    "lightfm = pd.read_csv('/opt/ml/LSY/ensemble/lightFM_50_500_ensemble_20_score.csv')"
   ]
  },
  {
   "cell_type": "code",
   "execution_count": 3,
   "metadata": {},
   "outputs": [],
   "source": [
    "recvae = recvae.sort_values(by=['user','score'])\n",
    "lightfm = lightfm.sort_values(by=['user','score'])"
   ]
  },
  {
   "cell_type": "code",
   "execution_count": 4,
   "metadata": {},
   "outputs": [],
   "source": [
    "recvae = recvae.reset_index(drop=True)\n",
    "lightfm = lightfm.reset_index(drop=True)"
   ]
  },
  {
   "cell_type": "code",
   "execution_count": 7,
   "metadata": {},
   "outputs": [
    {
     "data": {
      "text/html": [
       "<div>\n",
       "<style scoped>\n",
       "    .dataframe tbody tr th:only-of-type {\n",
       "        vertical-align: middle;\n",
       "    }\n",
       "\n",
       "    .dataframe tbody tr th {\n",
       "        vertical-align: top;\n",
       "    }\n",
       "\n",
       "    .dataframe thead th {\n",
       "        text-align: right;\n",
       "    }\n",
       "</style>\n",
       "<table border=\"1\" class=\"dataframe\">\n",
       "  <thead>\n",
       "    <tr style=\"text-align: right;\">\n",
       "      <th></th>\n",
       "      <th>user</th>\n",
       "      <th>item</th>\n",
       "      <th>score</th>\n",
       "    </tr>\n",
       "  </thead>\n",
       "  <tbody>\n",
       "    <tr>\n",
       "      <th>0</th>\n",
       "      <td>11</td>\n",
       "      <td>3986</td>\n",
       "      <td>3.516525</td>\n",
       "    </tr>\n",
       "    <tr>\n",
       "      <th>1</th>\n",
       "      <td>11</td>\n",
       "      <td>4874</td>\n",
       "      <td>3.524286</td>\n",
       "    </tr>\n",
       "    <tr>\n",
       "      <th>2</th>\n",
       "      <td>11</td>\n",
       "      <td>55232</td>\n",
       "      <td>3.525939</td>\n",
       "    </tr>\n",
       "    <tr>\n",
       "      <th>3</th>\n",
       "      <td>11</td>\n",
       "      <td>40815</td>\n",
       "      <td>3.526372</td>\n",
       "    </tr>\n",
       "    <tr>\n",
       "      <th>4</th>\n",
       "      <td>11</td>\n",
       "      <td>8360</td>\n",
       "      <td>3.578262</td>\n",
       "    </tr>\n",
       "    <tr>\n",
       "      <th>...</th>\n",
       "      <td>...</td>\n",
       "      <td>...</td>\n",
       "      <td>...</td>\n",
       "    </tr>\n",
       "    <tr>\n",
       "      <th>627195</th>\n",
       "      <td>138493</td>\n",
       "      <td>2628</td>\n",
       "      <td>3.753575</td>\n",
       "    </tr>\n",
       "    <tr>\n",
       "      <th>627196</th>\n",
       "      <td>138493</td>\n",
       "      <td>1240</td>\n",
       "      <td>3.763737</td>\n",
       "    </tr>\n",
       "    <tr>\n",
       "      <th>627197</th>\n",
       "      <td>138493</td>\n",
       "      <td>589</td>\n",
       "      <td>3.787268</td>\n",
       "    </tr>\n",
       "    <tr>\n",
       "      <th>627198</th>\n",
       "      <td>138493</td>\n",
       "      <td>1270</td>\n",
       "      <td>3.851638</td>\n",
       "    </tr>\n",
       "    <tr>\n",
       "      <th>627199</th>\n",
       "      <td>138493</td>\n",
       "      <td>53125</td>\n",
       "      <td>3.961250</td>\n",
       "    </tr>\n",
       "  </tbody>\n",
       "</table>\n",
       "<p>627200 rows × 3 columns</p>\n",
       "</div>"
      ],
      "text/plain": [
       "          user   item     score\n",
       "0           11   3986  3.516525\n",
       "1           11   4874  3.524286\n",
       "2           11  55232  3.525939\n",
       "3           11  40815  3.526372\n",
       "4           11   8360  3.578262\n",
       "...        ...    ...       ...\n",
       "627195  138493   2628  3.753575\n",
       "627196  138493   1240  3.763737\n",
       "627197  138493    589  3.787268\n",
       "627198  138493   1270  3.851638\n",
       "627199  138493  53125  3.961250\n",
       "\n",
       "[627200 rows x 3 columns]"
      ]
     },
     "execution_count": 7,
     "metadata": {},
     "output_type": "execute_result"
    }
   ],
   "source": [
    "recvae"
   ]
  },
  {
   "cell_type": "code",
   "execution_count": 18,
   "metadata": {},
   "outputs": [],
   "source": [
    "#hard voting\n",
    "output_final = []\n",
    "\n",
    "for i in range(31360):\n",
    "    a = recvae['item'][20*i:20*(i+1)]\n",
    "    b = lightfm['item'][20*i:20*(i+1)]\n",
    "    b_sub_a = [x for x in b if x not in a]\n",
    "    intersect =list(set(a)&set(b))\n",
    "    if len(intersect)>10:\n",
    "        intersect.sort(key = lambda x: np.where(b == x))\n",
    "        output_final += intersect[-10:]\n",
    "    elif len(intersect)<10:\n",
    "        output_final += intersect\n",
    "        output_final += b_sub_a[len(intersect)-10:]\n",
    "    else:\n",
    "        output_final += intersect"
   ]
  },
  {
   "cell_type": "code",
   "execution_count": 19,
   "metadata": {},
   "outputs": [
    {
     "data": {
      "text/plain": [
       "313600"
      ]
     },
     "execution_count": 19,
     "metadata": {},
     "output_type": "execute_result"
    }
   ],
   "source": [
    "len(output_final)#313600"
   ]
  },
  {
   "cell_type": "code",
   "execution_count": 22,
   "metadata": {},
   "outputs": [],
   "source": [
    "submission = pd.read_csv(\"/opt/ml/input/data/eval/sample_submission.csv\")\n",
    "submission[\"item\"] = output_final\n",
    "submission.to_csv(\"./RecVAE_lightFM_ensemble_bytop20.csv\", index=False)"
   ]
  },
  {
   "cell_type": "code",
   "execution_count": 2,
   "metadata": {},
   "outputs": [],
   "source": [
    "recvae = pd.read_csv('/opt/ml/LSY/ensemble/RecVAE(top20)_epoch500_adam0.0005.csv')\n",
    "lightfm = pd.read_csv('/opt/ml/LSY/ensemble/lightFM_50_500_ensemble_20_score.csv')\n",
    "recvae = recvae.sort_values(by=['user','score'])\n",
    "lightfm = lightfm.sort_values(by=['user','score'])"
   ]
  },
  {
   "cell_type": "code",
   "execution_count": 3,
   "metadata": {},
   "outputs": [],
   "source": [
    "multivae = pd.read_csv('multivae.csv')\n",
    "sasrec = pd.read_csv('sasrec.csv')"
   ]
  },
  {
   "cell_type": "code",
   "execution_count": 4,
   "metadata": {},
   "outputs": [],
   "source": [
    "recvae = recvae.drop(['score'],axis=1)\n",
    "lightfm = lightfm.drop(['score'],axis=1)\n",
    "recvae['rank'] = 20 - recvae.index%20\n",
    "lightfm['rank']=20 - lightfm.index%20"
   ]
  },
  {
   "cell_type": "code",
   "execution_count": 5,
   "metadata": {},
   "outputs": [],
   "source": [
    "sasrec['rank']=sasrec.index%10+1\n",
    "recvae['rank']=recvae.index%20+1"
   ]
  },
  {
   "cell_type": "code",
   "execution_count": 10,
   "metadata": {},
   "outputs": [],
   "source": [
    "output = []\n",
    "for i in range(31360):\n",
    "    r = recvae[20*i:20*(i+1)]\n",
    "    l = lightfm[20*i:20*(i+1)]\n",
    "    s = sasrec[10*i:10*(i+1)]\n",
    "    df = pd.merge(r,l,on = ['user','item'],how='outer')\n",
    "    df = df.fillna(21)\n",
    "    df = pd.merge(df, s, on=['user','item'],how = 'outer')\n",
    "    df = df.fillna(11)\n",
    "    df['sum rank'] = df['rank_x']+df['rank_y']+df['rank']\n",
    "    df_sorted_by_values = df.sort_values(by=['sum rank','rank_x'] ,ascending=False)\n",
    "    output.append(df_sorted_by_values['item'][0:10])"
   ]
  },
  {
   "cell_type": "code",
   "execution_count": 16,
   "metadata": {},
   "outputs": [],
   "source": [
    "output = np.array(output)\n",
    "output = output.reshape(1,-1)[0]"
   ]
  },
  {
   "cell_type": "code",
   "execution_count": 17,
   "metadata": {},
   "outputs": [],
   "source": [
    "submission = pd.read_csv(\"/opt/ml/input/data/eval/sample_submission.csv\")\n",
    "submission[\"item\"] = output\n",
    "submission.to_csv(\"./sum_rank.csv\", index=False)"
   ]
  }
 ],
 "metadata": {
  "interpreter": {
   "hash": "d4d1e4263499bec80672ea0156c357c1ee493ec2b1c70f0acce89fc37c4a6abe"
  },
  "kernelspec": {
   "display_name": "Python 3 (ipykernel)",
   "language": "python",
   "name": "python3"
  },
  "language_info": {
   "codemirror_mode": {
    "name": "ipython",
    "version": 3
   },
   "file_extension": ".py",
   "mimetype": "text/x-python",
   "name": "python",
   "nbconvert_exporter": "python",
   "pygments_lexer": "ipython3",
   "version": "3.8.5"
  }
 },
 "nbformat": 4,
 "nbformat_minor": 4
}
